{
 "cells": [
  {
   "cell_type": "code",
   "execution_count": 58,
   "id": "c6fe1f2f",
   "metadata": {},
   "outputs": [],
   "source": [
    "import numpy as np\n",
    "from scipy.integrate import solve_ivp\n",
    "import matplotlib.pyplot as plt\n",
    "\n",
    "# 定数\n",
    "F = 8.0\n",
    "N = 40\n",
    "dt = 0.05\n",
    "days = 730\n",
    "day_steps = int(0.20 / dt)  # 1日あたりのステップ数\n",
    "sample = int(days / 2 * day_steps)  # 2年間の後半1年のためのサンプル数\n",
    "\n",
    "# ローレンツ96モデルの定義\n",
    "def L96(t, x, F):\n",
    "    dxdt = np.zeros(N)\n",
    "    for i in range(N):\n",
    "        dxdt[i] = (x[(i + 1) % N] - x[i - 2]) * x[i - 1] - x[i] + F\n",
    "    return dxdt\n",
    "\n",
    "# スピンアップフェーズの初期条件\n",
    "X_minusL = np.random.normal(F / 4.0, F / 2.0, N)\n",
    "L = 360\n",
    "t_initialspan = (0.0, L)\n",
    "t_initialeval = np.linspace(t_initialspan[0], t_initialspan[1], int(L / dt + 1))\n",
    "initialsol = solve_ivp(L96, t_initialspan, X_minusL, args=(F,), method='RK45', t_eval=t_initialeval)\n",
    "X0 = initialsol.y[:, -1]\n",
    "\n",
    "# 興味のある期間にわたるメインシミュレーション\n",
    "tspan = (0.0, days)\n",
    "t_eval = np.linspace(tspan[0], tspan[1], int(tspan[1] / dt + 1))\n",
    "sol = solve_ivp(L96, tspan, X0, args=(F,), method='RK45', t_eval=t_eval)\n",
    "\n",
    "# 2年目のデータ収集\n",
    "X = []\n",
    "mid_point = int(len(t_eval) / 2)  # 2年間の前半終了点\n",
    "for i in range(sample):\n",
    "    X.append(sol.y[:, mid_point + i * day_steps])\n",
    "# 結果の書き出し\n",
    "np.savetxt('assignment3.csv',X,delimiter=',')"
   ]
  },
  {
   "cell_type": "code",
   "execution_count": 61,
   "id": "4a122776",
   "metadata": {},
   "outputs": [
    {
     "name": "stdout",
     "output_type": "stream",
     "text": [
      "[[-3.28119045 -0.4335147  -0.31944165 ...  2.15091909  7.60196145\n",
      "   2.01141118]\n",
      " [-0.59932636  0.86006675  1.83873719 ... -0.79942915  8.1982437\n",
      "  -1.17533015]\n",
      " [ 0.13199546  2.2400813   4.85119287 ... -1.41685444  7.53397889\n",
      "   2.86875329]\n",
      " ...\n",
      " [-3.34148734  2.17429927  1.30159912 ...  3.07370195 10.27575491\n",
      "   4.05179998]\n",
      " [-1.9565211   1.91207289  4.60774569 ... -6.83552539  8.26918037\n",
      "   1.43639946]\n",
      " [-1.07225097  2.69655808  6.98132018 ... -4.49633291  1.95560096\n",
      "   6.63821104]]\n"
     ]
    }
   ],
   "source": [
    "import numpy as np\n",
    "import matplotlib.pyplot as plt\n",
    "\n",
    "# delimiterをカンマに設定して読み込む\n",
    "X = np.loadtxt('assignment3.csv', delimiter=',')\n",
    "print(X)\n"
   ]
  },
  {
   "cell_type": "code",
   "execution_count": null,
   "id": "2f223aa1",
   "metadata": {},
   "outputs": [],
   "source": []
  }
 ],
 "metadata": {
  "kernelspec": {
   "display_name": "Python 3 (ipykernel)",
   "language": "python",
   "name": "python3"
  },
  "language_info": {
   "codemirror_mode": {
    "name": "ipython",
    "version": 3
   },
   "file_extension": ".py",
   "mimetype": "text/x-python",
   "name": "python",
   "nbconvert_exporter": "python",
   "pygments_lexer": "ipython3",
   "version": "3.11.7"
  }
 },
 "nbformat": 4,
 "nbformat_minor": 5
}
