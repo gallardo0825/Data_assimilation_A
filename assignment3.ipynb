{
 "cells": [
  {
   "cell_type": "code",
   "execution_count": 53,
   "id": "f7861542",
   "metadata": {},
   "outputs": [
    {
     "name": "stdout",
     "output_type": "stream",
     "text": [
      "1460\n"
     ]
    }
   ],
   "source": [
    "import numpy as np\n",
    "from scipy.integrate import solve_ivp\n",
    "import matplotlib.pyplot as plt\n",
    "\n",
    "# 定数\n",
    "F = 8.0\n",
    "N = 40\n",
    "dt = 0.05\n",
    "days = 730\n",
    "day_steps = int(0.20 / dt)  # 1日あたりのステップ数\n",
    "sample = int(days / 2 * day_steps)  # 2年間の後半1年のためのサンプル数\n",
    "\n",
    "# ローレンツ96モデルの定義\n",
    "def L96(t, x, F):\n",
    "    dxdt = np.zeros(N)\n",
    "    for i in range(N):\n",
    "        dxdt[i] = (x[(i + 1) % N] - x[i - 2]) * x[i - 1] - x[i] + F\n",
    "    return dxdt\n",
    "\n",
    "# スピンアップフェーズの初期条件\n",
    "X_minusL = np.random.normal(F / 4.0, F / 2.0, N)\n",
    "L = 360\n",
    "t_initialspan = (0.0, L)\n",
    "t_initialeval = np.linspace(t_initialspan[0], t_initialspan[1], int(L / dt + 1))\n",
    "initialsol = solve_ivp(L96, t_initialspan, X_minusL, args=(F,), method='RK45', t_eval=t_initialeval)\n",
    "X0 = initialsol.y[:, -1]\n",
    "\n",
    "# 興味のある期間にわたるメインシミュレーション\n",
    "tspan = (0.0, days)\n",
    "t_eval = np.linspace(tspan[0], tspan[1], int(tspan[1] / dt + 1))\n",
    "sol = solve_ivp(L96, tspan, X0, args=(F,), method='RK45', t_eval=t_eval)\n",
    "\n",
    "# 2年目のデータ収集\n",
    "X = []\n",
    "mid_point = int(len(t_eval) / 2)  # 2年間の前半終了点\n",
    "for i in range(sample):\n",
    "    X.append(sol.y[:, mid_point + i * day_steps])\n",
    "# 結果のプロット\n",
    "print(len(X))"
   ]
  },
  {
   "cell_type": "code",
   "execution_count": null,
   "id": "41353081",
   "metadata": {},
   "outputs": [],
   "source": []
  }
 ],
 "metadata": {
  "kernelspec": {
   "display_name": "Python 3 (ipykernel)",
   "language": "python",
   "name": "python3"
  },
  "language_info": {
   "codemirror_mode": {
    "name": "ipython",
    "version": 3
   },
   "file_extension": ".py",
   "mimetype": "text/x-python",
   "name": "python",
   "nbconvert_exporter": "python",
   "pygments_lexer": "ipython3",
   "version": "3.11.7"
  }
 },
 "nbformat": 4,
 "nbformat_minor": 5
}
