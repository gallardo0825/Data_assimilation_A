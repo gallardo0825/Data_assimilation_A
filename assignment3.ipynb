{
 "cells": [
  {
   "cell_type": "code",
   "execution_count": 18,
   "id": "b1de77b1",
   "metadata": {},
   "outputs": [
    {
     "name": "stdout",
     "output_type": "stream",
     "text": [
      "[ 4.38362547  1.37438864  4.29232133  5.90695815 -2.96256321  3.05677694\n",
      "  8.19983938 -3.20900335  3.76801751  2.55378186  2.35385557  6.20728853\n",
      " -0.3157435  -1.03718761 -0.17867554  8.84835991  5.40039563  2.78887476\n",
      "  6.42469435 -1.66547039 -3.14873863  1.620062    5.34543277  3.91154966\n",
      " -1.1066072  -3.07220461  0.76968953  6.41959547  9.04907142  1.78840043\n",
      " -3.06631985  0.98065323  5.86730769  1.21664488 -1.55017257  2.77411525\n",
      "  8.5654063   2.47710767 -0.44956314 -2.10464658]\n"
     ]
    }
   ],
   "source": [
    "import numpy as np\n",
    "from scipy.integrate import solve_ivp\n",
    "import matplotlib.pyplot as plt\n",
    "\n",
    "#Fは外力項\n",
    "F = 8.0\n",
    "#Nは解析データの次元(40変数モデル)\n",
    "N = 40 \n",
    "#ステップ幅\n",
    "dt = 0.05\n",
    "#ステップ時間(1日)\n",
    "day_span = 0.20\n",
    "#評価の時間終点(2年(前半1年スピンアップ,後半1年真の値保存))\n",
    "days = 730\n",
    "\n",
    "#一日のステップ数\n",
    "day_step = day_span / dt\n",
    "#摂動\n",
    "epsilon = 1e-4\n",
    "#各種評価パラメータ\n",
    "tend = dt * 730\n",
    "tend_spinup = dt * (days / 2.0)\n",
    "tend_assess = dt * (days / 2.0)\n",
    "#サンプル数\n",
    "sample = int((day_step) * (days / 2.0))\n",
    "\n",
    "def L96(t,x,F):\n",
    "    dxdt = np.zeros((N))\n",
    "    for i in range(2, N-1):\n",
    "        dxdt[i] = (x[i+1]-x[i-2])*x[i-1] - x[i] + F\n",
    "\n",
    "    dxdt[0] = (x[1]-x[N-2])*x[N-1] - x[0] + F\n",
    "    dxdt[1] = (x[2]-x[N-1])*x[0] - x[1] + F\n",
    "    dxdt[N-1] = (x[0]-x[N-3])*x[N-2] - x[N-1] + F\n",
    "\n",
    "    return dxdt\n",
    "\n",
    "#初期条件\n",
    "X_minusL = np.random.normal(F / 4.0, F / 2.0, N)\n",
    "L = 360\n",
    "t_initialspan = (0.0, L)\n",
    "t_initialeval = np.linspace(t_initialspan[0], t_initialspan[1] , int((L / dt) + 1))\n",
    "initialsol = solve_ivp(L96, t_initialspan, X_minusL, args=(F,), method='RK45', t_eval=t_initialeval)\n",
    "X0 = initialsol.y[:, int(L / dt)]\n",
    "\n",
    "\"\"\"\n",
    "#十分長い時間(前半半分はアトラクター乗ってないとして切り捨てる)\n",
    "tspan = (0.0 , tend_ spinup)\n",
    "t_eval = np.linspace(tspan[0], tspan[1], int(tspan[1] * int(1 / dt) + 1))\n",
    "#ODEの解法\n",
    "sol = solve_ivp(L96, tspan, X, args=(F,), method='RK45', t_eval = t_eval)\n",
    "#後半1年間のデータ保存用配列\n",
    "\"\"\"\n",
    "#結果の保存\n",
    "print(X0)"
   ]
  },
  {
   "cell_type": "code",
   "execution_count": 1,
   "id": "92ed917e",
   "metadata": {},
   "outputs": [
    {
     "name": "stdout",
     "output_type": "stream",
     "text": [
      "[72.27761825 45.12386039 35.97574696 53.25221574 27.01457861 41.93405063\n",
      " 43.65973339 59.88524676 36.01132546 67.25680699]\n"
     ]
    }
   ],
   "source": [
    "import numpy as np\n",
    "\n",
    "# Specify the mean and standard deviation\n",
    "mean = 50  # example mean\n",
    "std_dev = 10  # example standard deviation\n",
    "\n",
    "# Generate random numbers from a Gaussian distribution\n",
    "random_numbers = np.random.normal(mean, std_dev, size=10)  # generate 10 random numbers\n",
    "\n",
    "print(random_numbers)\n",
    "\n"
   ]
  },
  {
   "cell_type": "code",
   "execution_count": null,
   "id": "97c1f60d",
   "metadata": {},
   "outputs": [],
   "source": []
  }
 ],
 "metadata": {
  "kernelspec": {
   "display_name": "Python 3 (ipykernel)",
   "language": "python",
   "name": "python3"
  },
  "language_info": {
   "codemirror_mode": {
    "name": "ipython",
    "version": 3
   },
   "file_extension": ".py",
   "mimetype": "text/x-python",
   "name": "python",
   "nbconvert_exporter": "python",
   "pygments_lexer": "ipython3",
   "version": "3.11.7"
  }
 },
 "nbformat": 4,
 "nbformat_minor": 5
}
