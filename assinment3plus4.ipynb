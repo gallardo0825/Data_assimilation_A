{
 "cells": [
  {
   "cell_type": "code",
   "execution_count": 4,
   "id": "b108904d",
   "metadata": {},
   "outputs": [],
   "source": [
    "import numpy as np\n",
    "from scipy.integrate import solve_ivp\n",
    "import pandas as pd\n",
    "\n",
    "# Constants\n",
    "F = 8.0\n",
    "N = 40\n",
    "dt = 0.05\n",
    "days = 730\n",
    "day_steps = int(0.20 / dt)  # Steps per day\n",
    "sample = int(days / 2 * day_steps)  # Samples for the last year in a two-year period\n",
    "\n",
    "# Define the Lorenz 96 model function\n",
    "def L96(t, x, F):\n",
    "    dxdt = np.zeros(N)\n",
    "    for i in range(N):\n",
    "        dxdt[i] = (x[(i + 1) % N] - x[i - 2]) * x[i - 1] - x[i] + F\n",
    "    return dxdt\n",
    "\n",
    "# Initial conditions for spin-up phase\n",
    "X_minusL = np.random.normal(F / 4.0, F / 2.0, N)\n",
    "L = 360\n",
    "t_initialspan = (0.0, L)\n",
    "t_initialeval = np.linspace(t_initialspan[0], t_initialspan[1], int(L / dt + 1))\n",
    "initialsol = solve_ivp(L96, t_initialspan, X_minusL, args=(F,), method='RK45', t_eval=t_initialeval)\n",
    "X0 = initialsol.y[:, -1]\n",
    "\n",
    "# Main simulation over the period of interest\n",
    "tspan = (0.0, days)\n",
    "t_eval = np.linspace(tspan[0], tspan[1], int(tspan[1] / dt + 1))\n",
    "sol = solve_ivp(L96, tspan, X0, args=(F,), method='RK45', t_eval=t_eval)\n",
    "\n",
    "# Collect data from the second year\n",
    "X = sol.y[:, int(len(t_eval) / 2):].reshape(N, -1)[:, ::day_steps][:, :sample]\n",
    "\n",
    "# Create observational data\n",
    "rng = np.random.default_rng()\n",
    "normal_random_numbers = rng.normal(loc=0, scale=1, size=X.shape)\n",
    "X_obs = X + normal_random_numbers\n",
    "\n",
    "# Export results to CSV\n",
    "df_rnd = pd.DataFrame(normal_random_numbers)\n",
    "df_true = pd.DataFrame(X)\n",
    "df_obs = pd.DataFrame(X_obs)\n",
    "\n",
    "df_rnd.to_csv('random_noise.csv')\n",
    "df_true.to_csv('true_data.csv')\n",
    "df_obs.to_csv('observed_data.csv')\n"
   ]
  },
  {
   "cell_type": "code",
   "execution_count": null,
   "id": "a45c272c",
   "metadata": {},
   "outputs": [],
   "source": []
  }
 ],
 "metadata": {
  "kernelspec": {
   "display_name": "Python 3 (ipykernel)",
   "language": "python",
   "name": "python3"
  },
  "language_info": {
   "codemirror_mode": {
    "name": "ipython",
    "version": 3
   },
   "file_extension": ".py",
   "mimetype": "text/x-python",
   "name": "python",
   "nbconvert_exporter": "python",
   "pygments_lexer": "ipython3",
   "version": "3.11.7"
  }
 },
 "nbformat": 4,
 "nbformat_minor": 5
}
