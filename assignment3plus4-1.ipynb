{
 "cells": [
  {
   "cell_type": "code",
   "execution_count": 1,
   "id": "3433b865",
   "metadata": {},
   "outputs": [],
   "source": [
    "import numpy as np\n",
    "import pandas as pd\n",
    "\n",
    "def L96(u, F=8.0, N=40):\n",
    "    f = np.zeros(N)\n",
    "    for k in range(2, N-1):\n",
    "        f[k] = (u[k+1] - u[k-2]) * u[k-1] - u[k] + F\n",
    "    f[0] = (u[1] - u[N-2]) * u[N-1] - u[0] + F\n",
    "    f[1] = (u[2] - u[N-1]) * u[0] - u[1] + F\n",
    "    f[N-1] = (u[0] - u[N-3]) * u[N-2] - u[N-1] + F\n",
    "    return f\n",
    "\n",
    "def Model(u, dt=0.05):\n",
    "    s1 = L96(u)\n",
    "    s2 = L96(u + s1 * dt / 2)\n",
    "    s3 = L96(u + s2 * dt / 2)\n",
    "    s4 = L96(u + s3 * dt)\n",
    "    du = u + (s1 + 2 * s2 + 2 * s3 + s4) * (dt / 6)\n",
    "    return du\n",
    "\n",
    "def main():\n",
    "    Time_Step = 1460\n",
    "    F = 8.0\n",
    "    N = 40\n",
    "    u = np.full(N, F) + np.random.rand(N)\n",
    "    t_data = []\n",
    "    o_data = []\n",
    "\n",
    "    ## Spin-up period\n",
    "    for _ in range(Time_Step):\n",
    "        u = Model(u)\n",
    "\n",
    "    ## Generate true state data\n",
    "    for i in range(Time_Step):\n",
    "        u = Model(u)\n",
    "        t_data.append(u)\n",
    "    df_t = pd.DataFrame(t_data)\n",
    "    df_t.to_csv('t_data.csv')\n",
    "    t_data = np.array(t_data)\n",
    "\n",
    "    ## Add noise to true state data to create observations\n",
    "    for i in range(Time_Step):\n",
    "        noisy_observation = t_data[i, :] + np.random.randn(N)\n",
    "        o_data.append(noisy_observation)\n",
    "    df_o = pd.DataFrame(o_data)\n",
    "    df_o.to_csv('o_data.csv')\n",
    "    \n",
    "if __name__ == \"__main__\":\n",
    "    main()\n"
   ]
  },
  {
   "cell_type": "code",
   "execution_count": null,
   "id": "f5fdafe6",
   "metadata": {},
   "outputs": [],
   "source": []
  }
 ],
 "metadata": {
  "kernelspec": {
   "display_name": "Python 3 (ipykernel)",
   "language": "python",
   "name": "python3"
  },
  "language_info": {
   "codemirror_mode": {
    "name": "ipython",
    "version": 3
   },
   "file_extension": ".py",
   "mimetype": "text/x-python",
   "name": "python",
   "nbconvert_exporter": "python",
   "pygments_lexer": "ipython3",
   "version": "3.11.7"
  }
 },
 "nbformat": 4,
 "nbformat_minor": 5
}
