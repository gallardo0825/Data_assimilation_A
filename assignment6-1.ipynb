{
 "cells": [
  {
   "cell_type": "code",
   "execution_count": 54,
   "id": "8b9fded1",
   "metadata": {},
   "outputs": [],
   "source": [
    "import pandas as pd\n",
    "import numpy as np\n",
    "from scipy.linalg import inv, sqrtm\n",
    "from numpy import identity as eye\n",
    "import matplotlib.pyplot as plt\n",
    "\n",
    "class Calculation:\n",
    "    def __init__(self, F=8.0, N=40, dt=0.05):\n",
    "        self.F = F\n",
    "        self.N = N\n",
    "        self.dt = dt\n",
    "        self.u = np.full(self.N, self.F) + np.random.rand(self.N)\n",
    "        \n",
    "    def L96(self, x):\n",
    "        N = self.N\n",
    "        F = self.F\n",
    "        dxdt = np.zeros((N))\n",
    "        for i in range(2, N-1):\n",
    "            dxdt[i] = (x[i+1] - x[i-2]) * x[i-1] - x[i] + F\n",
    "        dxdt[0] = (x[1] - x[N-2]) * x[N-1] - x[0] + F\n",
    "        dxdt[1] = (x[2] - x[N-1]) * x[0] - x[1] + F\n",
    "        dxdt[N-1] = (x[0] - x[N-3]) * x[N-2] - x[N-1] + F\n",
    "        return dxdt\n",
    "    \n",
    "    def Rk4(self, xold):\n",
    "        dt = self.dt\n",
    "        k1 = self.L96(xold)\n",
    "        k2 = self.L96(xold + k1 * dt / 2.)\n",
    "        k3 = self.L96(xold + k2 * dt / 2.)\n",
    "        k4 = self.L96(xold + k3 * dt)\n",
    "        xnew = xold + dt / 6.0 * (k1 + 2.0 * k2 + 2.0 * k3 + k4)\n",
    "        return xnew\n",
    "    \n",
    "    def RMS(self, error):\n",
    "        return np.sqrt(np.mean(error**2))\n",
    "    \n",
    "    def trRMS(self, x):\n",
    "        return np.sqrt(x / self.N)\n",
    "    \n",
    "    def obs_remove(self, obs_point, y, H, R, method = 0):\n",
    "        rmv_point = self.N - obs_point \n",
    "        methods = [0,1,2]\n",
    "        if method in methods:\n",
    "            if method == 0:\n",
    "                pass\n",
    "            #連続抜き\n",
    "            elif method == 1:\n",
    "                y = np.delete(y, np.s_[0:rmv_point], axis=1)\n",
    "                H = np.delete(H, np.s_[0:rmv_point], axis=0)\n",
    "                R = np.delete(R, np.s_[0:rmv_point], axis=0)\n",
    "                R = np.delete(R, np.s_[0:rmv_point], axis=1)\n",
    "                return y, H, R\n",
    "            #等間隔抜き\n",
    "            else:\n",
    "                pass\n",
    "        else:\n",
    "            print(\"Wrong method was selected\")"
   ]
  },
  {
   "cell_type": "code",
   "execution_count": 55,
   "id": "fe4b94be",
   "metadata": {},
   "outputs": [],
   "source": [
    "cal = Calculation()"
   ]
  },
  {
   "cell_type": "code",
   "execution_count": 46,
   "id": "f68b8389",
   "metadata": {},
   "outputs": [],
   "source": [
    "class Datagenerater:\n",
    "    def __init__(self, calculation):\n",
    "        self.cal = calculation\n",
    "        self.N = calculation.N\n",
    "        self.u = np.full(self.N, self.cal.F) + np.random.rand(self.N)\n",
    "        \n",
    "    def Data_generate(self, Time_Step=1460):\n",
    "        t_data, o_data = [], []\n",
    "        u = self.u\n",
    "\n",
    "        # Warm-up phase to eliminate transients\n",
    "        for _ in range(Time_Step):\n",
    "            u = self.cal.Rk4(u)\n",
    "        \n",
    "        # Data generation phase\n",
    "        for _ in range(Time_Step):\n",
    "            u = self.cal.Rk4(u)\n",
    "            t_data.append(u)\n",
    "            noisy_observation = u + np.random.randn(self.N)\n",
    "            o_data.append(noisy_observation)\n",
    "        \n",
    "        # Save data to CSV\n",
    "        pd.DataFrame(t_data).to_csv('t_data.csv')\n",
    "        pd.DataFrame(o_data).to_csv('o_data.csv')"
   ]
  },
  {
   "cell_type": "code",
   "execution_count": null,
   "id": "a336b0a5",
   "metadata": {},
   "outputs": [],
   "source": [
    "datagen = Datagenerater(cal)\n",
    "datagen.Data_generate()"
   ]
  },
  {
   "cell_type": "code",
   "execution_count": 62,
   "id": "019303b6",
   "metadata": {},
   "outputs": [],
   "source": [
    "class Three_D_VAR:\n",
    "    def __init__(self, calculation, B = 0.4,obs_point = 40, method = 1):\n",
    "        self.F = 8.0\n",
    "        self.N = 40\n",
    "        self.dt = 0.05\n",
    "        self.days = 365\n",
    "        self.day_steps = int(0.20 / self.dt)\n",
    "        self.time_step = self.days * self.day_steps\n",
    "        self.delta = 0.001\n",
    "        self.ls_time_step = [i for i in range(self.time_step)]\n",
    "        self.IN = np.eye(self.N)\n",
    "        self.obs_point = obs_point\n",
    "        self.df_x_true = pd.read_csv('t_data.csv', header=0, index_col=0)\n",
    "        self.df_y = pd.read_csv('o_data.csv', header=0, index_col=0)\n",
    "        self.H = np.eye(self.N)\n",
    "        self.R = np.eye(self.N)\n",
    "        self.B = B\n",
    "        self.cal = calculation\n",
    "        self.method = method\n",
    "    \n",
    "    def run_simulation(self):\n",
    "        x_true = self.df_x_true.values\n",
    "        y = self.df_y.values\n",
    "        x_a = x_true[1,:]\n",
    "        B = self.B * np.eye(self.N)\n",
    "        forecast, analysis = [], []\n",
    "        #固定で抜く(連続or等間隔)\n",
    "        y, self.H, self.R = self.cal.obs_remove(obs_point = self.obs_point, y = y, H = self.H, R = self.R, method = self.method)\n",
    "        \n",
    "        for i in range(self.time_step):\n",
    "            x_f = self.cal.Rk4(x_a)\n",
    "            forecast.append(x_f)\n",
    "            #ステップごとにデータを抜く\n",
    "            K = B @ self.H.T @ np.linalg.pinv(self.H @ B @ self.H.T + self.R)\n",
    "            #y消せてない\n",
    "            x_a = x_f + K @ (y[i, :] - self.H @ x_f)\n",
    "            analysis.append(x_a)\n",
    "        \n",
    "        return self.plot_results(forecast, analysis, x_true, y)\n",
    "    \n",
    "    def plot_results(self, forecast, analysis, x_true, y):\n",
    "        forecast = np.array(forecast)\n",
    "        analysis = np.array(analysis)\n",
    "        error_f, error_a = [], []\n",
    "        \n",
    "        for i in range(self.time_step):\n",
    "            xf = forecast[i, :]\n",
    "            xa = analysis[i, :]\n",
    "            xt = x_true[i, :]\n",
    "            epsilon_f = xf - xt\n",
    "            epsilon_a = xa - xt\n",
    "            error_f.append(self.cal.RMS(epsilon_f))\n",
    "            error_a.append(self.cal.RMS(epsilon_a))\n",
    "        \n",
    "        return  error_a, error_f"
   ]
  },
  {
   "cell_type": "code",
   "execution_count": 66,
   "id": "c7fe5cd8",
   "metadata": {},
   "outputs": [
    {
     "data": {
      "text/plain": [
       "[<matplotlib.lines.Line2D at 0x285fbe1c790>]"
      ]
     },
     "execution_count": 66,
     "metadata": {},
     "output_type": "execute_result"
    },
    {
     "data": {
      "image/png": "[encoded data removed]",
      "text/plain": [
       "<Figure size 1000x600 with 1 Axes>"
      ]
     },
     "metadata": {},
     "output_type": "display_data"
    }
   ],
   "source": [
    "obs = list(range(1,40))\n",
    "error_obs_3DVAR = []\n",
    "obs.reverse()\n",
    "for i in obs:\n",
    "    three_d_var = Three_D_VAR(calculation = cal, obs_point = i)\n",
    "    error_a, error_f = three_d_var.run_simulation()\n",
    "    error_obs_3DVAR.append(np.mean(error_a))"
   ]
  },
  {
   "cell_type": "code",
   "execution_count": null,
   "id": "99bdcaff",
   "metadata": {},
   "outputs": [],
   "source": []
  }
 ],
 "metadata": {
  "kernelspec": {
   "display_name": "Python 3 (ipykernel)",
   "language": "python",
   "name": "python3"
  },
  "language_info": {
   "codemirror_mode": {
    "name": "ipython",
    "version": 3
   },
   "file_extension": ".py",
   "mimetype": "text/x-python",
   "name": "python",
   "nbconvert_exporter": "python",
   "pygments_lexer": "ipython3",
   "version": "3.11.7"
  }
 },
 "nbformat": 4,
 "nbformat_minor": 5
}
