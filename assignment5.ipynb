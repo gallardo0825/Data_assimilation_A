{
 "cells": [
  {
   "cell_type": "code",
   "execution_count": 11,
   "id": "d49df702-b21b-4a8e-88e6-4c7ec77965d4",
   "metadata": {},
   "outputs": [],
   "source": [
    "import pandas as pd\n",
    "import numpy as np\n",
    "from scipy.linalg import inv, sqrtm\n",
    "from numpy import identity as eye\n",
    "\n",
    "F = 8.0\n",
    "N = 40\n",
    "dt = 0.05\n",
    "days = 365\n",
    "day_steps = int(0.20 / dt)  \n",
    "time_step = days * day_steps + 1\n",
    "delta = 1.0e-5\n",
    "\n",
    "def L96(x):\n",
    "    dxdt = np.zeros(N)\n",
    "    for i in range(N):\n",
    "        dxdt[i] = (x[(i + 1) % N] - x[i - 2]) * x[i - 1] - x[i] + F\n",
    "    return dxdt\n",
    "\n",
    "def Rk4(xold):\n",
    "    k1 = L96(xold)\n",
    "    k2 = L96(xold + k1 * dt / 2.)\n",
    "    k3 = L96(xold + k2 * dt / 2.)\n",
    "    k4 = L96(xold + k3 * dt)\n",
    "    xnew = xold + dt / 6.0 * (k1 + 2.0 * k2 + 2.0 * k3 + k4)\n",
    "    return xnew\n",
    "\n",
    "def main():\n",
    "    df_x_true = pd.read_csv('true_data.csv', header=0, index_col=0)\n",
    "    x_true = df_x_true.values\n",
    "    df_y = pd.read_csv('observed_data.csv', header=0, index_col=0)\n",
    "    y = df_y.values\n",
    "    #ヤコビ行列での計算で使う\n",
    "    IN = np.eye(N)\n",
    "    #観測演算子(今回は y : 40変数、x : 40変数)\n",
    "    #仮\n",
    "    H = np.eye(N)\n",
    "    #解析誤差共分散行列\n",
    "    #仮\n",
    "    Pa = np.eye(N)\n",
    "    #観測誤差共分散行列(標準正規分布に従う乱数を真値に足して観測データとした)\n",
    "    #仮\n",
    "    R = np.eye(N)\n",
    "    #初期設定\n",
    "    #仮(真値と１ステップだけずらした)\n",
    "    x_a = x_true[:,1]\n",
    "\n",
    "    for i in range(time_step):\n",
    "        x_f = Rk4(x_a)\n",
    "        JM = np.zeros((N, N))\n",
    "        for j in range(N):\n",
    "            JM[:, j] = (Rk4(x_a + delta * IN[:,j]) - Rk4(x_a)) / delta\n",
    "\n",
    "        Pf = JM @ Pa @ JM.T\n",
    "        K = Pf @ H.T @ inv(H @ Pf @ H.T + R)\n",
    "        x_a = x_f + K @ (y[:, i] - H @ x_f)\n",
    "        Pa = (eye(N) - K @ H) @ Pf\n",
    "\n",
    "if __name__ == \"__main__\":\n",
    "    main()\n"
   ]
  },
  {
   "cell_type": "code",
   "execution_count": 7,
   "id": "3636befd-e778-4a3f-97cc-10387ead90e4",
   "metadata": {},
   "outputs": [
    {
     "name": "stdout",
     "output_type": "stream",
     "text": [
      "(40, 1461)\n"
     ]
    }
   ],
   "source": [
    "df_x_true = pd.read_csv('true_data.csv', header=0, index_col=0)\n",
    "x_true = df_x_true.values\n",
    "df_y = pd.read_csv('observed_data.csv', header=0, index_col=0)\n",
    "y = df_y.values\n",
    "x = np.array(y)\n",
    "print(x.shape)\n"
   ]
  },
  {
   "cell_type": "code",
   "execution_count": null,
   "id": "9827f305-81a0-4eea-b59b-b4965986d9df",
   "metadata": {},
   "outputs": [],
   "source": []
  }
 ],
 "metadata": {
  "kernelspec": {
   "display_name": "Python 3 (ipykernel)",
   "language": "python",
   "name": "python3"
  },
  "language_info": {
   "codemirror_mode": {
    "name": "ipython",
    "version": 3
   },
   "file_extension": ".py",
   "mimetype": "text/x-python",
   "name": "python",
   "nbconvert_exporter": "python",
   "pygments_lexer": "ipython3",
   "version": "3.11.7"
  }
 },
 "nbformat": 4,
 "nbformat_minor": 5
}
