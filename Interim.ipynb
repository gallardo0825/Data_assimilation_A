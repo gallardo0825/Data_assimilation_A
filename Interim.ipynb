{
 "cells": [
  {
   "cell_type": "code",
   "execution_count": 7,
   "id": "0099cb91",
   "metadata": {},
   "outputs": [],
   "source": [
    "import numpy as np\n",
    "import pandas as pd\n",
    "\n",
    "class Datagenerater:\n",
    "    def __init__(self):\n",
    "        self.F = 8.0\n",
    "        self.N = 40\n",
    "        self.dt = 0.05\n",
    "        self.u = np.full(self.N, self.F) + np.random.rand(self.N)\n",
    "\n",
    "    def L96(self, u):\n",
    "        F, N = self.F, self.N\n",
    "        f = np.zeros(N)\n",
    "        for k in range(2, N-1):\n",
    "            f[k] = (u[k+1] - u[k-2]) * u[k-1] - u[k] + F\n",
    "        f[0] = (u[1] - u[N-2]) * u[N-1] - u[0] + F\n",
    "        f[1] = (u[2] - u[N-1]) * u[0] - u[1] + F\n",
    "        f[N-1] = (u[0] - u[N-3]) * u[N-2] - u[N-1] + F\n",
    "        return f\n",
    "\n",
    "    def Model(self, u):\n",
    "        dt = self.dt\n",
    "        s1 = self.L96(u)\n",
    "        s2 = self.L96(u + s1 * dt / 2)\n",
    "        s3 = self.L96(u + s2 * dt / 2)\n",
    "        s4 = self.L96(u + s3 * dt)\n",
    "        du = u + (s1 + 2 * s2 + 2 * s3 + s4) * (dt / 6)\n",
    "        return du\n",
    "\n",
    "    def Data_generate(self, Time_Step=1460):\n",
    "        t_data, o_data = [], []\n",
    "        u = self.u\n",
    "\n",
    "        for _ in range(Time_Step):\n",
    "            u = self.Model(u)\n",
    "\n",
    "        for i in range(Time_Step):\n",
    "            u = self.Model(u)\n",
    "            t_data.append(u)\n",
    "        df_t = pd.DataFrame(t_data)\n",
    "        df_t.to_csv('t_data.csv')\n",
    "        t_data = np.array(t_data)\n",
    "\n",
    "        for i in range(Time_Step):\n",
    "            noisy_observation = t_data[i, :] + np.random.randn(self.N)\n",
    "            o_data.append(noisy_observation)\n",
    "        df_o = pd.DataFrame(o_data)\n",
    "        df_o.to_csv('o_data.csv')\n",
    "    "
   ]
  },
  {
   "cell_type": "code",
   "execution_count": 8,
   "id": "3daec33b",
   "metadata": {},
   "outputs": [],
   "source": [
    "generate = Datagenerater()\n",
    "generate.Data_generate()"
   ]
  },
  {
   "cell_type": "code",
   "execution_count": null,
   "id": "48846782",
   "metadata": {},
   "outputs": [],
   "source": []
  }
 ],
 "metadata": {
  "kernelspec": {
   "display_name": "Python 3 (ipykernel)",
   "language": "python",
   "name": "python3"
  },
  "language_info": {
   "codemirror_mode": {
    "name": "ipython",
    "version": 3
   },
   "file_extension": ".py",
   "mimetype": "text/x-python",
   "name": "python",
   "nbconvert_exporter": "python",
   "pygments_lexer": "ipython3",
   "version": "3.11.7"
  }
 },
 "nbformat": 4,
 "nbformat_minor": 5
}
